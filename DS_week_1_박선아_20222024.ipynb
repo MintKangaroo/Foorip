{
  "nbformat": 4,
  "nbformat_minor": 0,
  "metadata": {
    "colab": {
      "provenance": [],
      "include_colab_link": true
    },
    "kernelspec": {
      "name": "python3",
      "display_name": "Python 3"
    }
  },
  "cells": [
    {
      "cell_type": "markdown",
      "metadata": {
        "id": "view-in-github",
        "colab_type": "text"
      },
      "source": [
        "<a href=\"https://colab.research.google.com/github/MintKangaroo/Foorip/blob/main/DS_week_1_%EB%B0%95%EC%84%A0%EC%95%84_20222024.ipynb\" target=\"_parent\"><img src=\"https://colab.research.google.com/assets/colab-badge.svg\" alt=\"Open In Colab\"/></a>"
      ]
    },
    {
      "cell_type": "code",
      "metadata": {
        "pycharm": {
          "name": "#%%\n"
        },
        "id": "alxxlxeaxzTf",
        "colab": {
          "base_uri": "https://localhost:8080/"
        },
        "outputId": "e51a51dd-122c-45d1-8ca5-b65469943b81"
      },
      "source": [
        "# 문제 1. Hello, World! 출력하세요.\n",
        "\n",
        "# 정답 1.\n",
        "print('Hello, World!')"
      ],
      "execution_count": null,
      "outputs": [
        {
          "output_type": "stream",
          "name": "stdout",
          "text": [
            "Hello, World!\n"
          ]
        }
      ]
    },
    {
      "cell_type": "code",
      "metadata": {
        "pycharm": {
          "name": "#%%\n"
        },
        "id": "Cl8JMZ2KxzTi",
        "colab": {
          "base_uri": "https://localhost:8080/"
        },
        "outputId": "fa91aa4a-a20c-4f46-e7ec-93407bbe4a00"
      },
      "source": [
        "# 문제 2. samsung 이라는 변수로 50000원을 설정하시오. samsung 주식 10주를 보유하고 있을 때, 총 평가금액을 출력하세요.\n",
        "\n",
        "# 정답 2.\n",
        "samsung = 50000\n",
        "print(samsung * 10)"
      ],
      "execution_count": null,
      "outputs": [
        {
          "output_type": "stream",
          "name": "stdout",
          "text": [
            "500000\n"
          ]
        }
      ]
    },
    {
      "cell_type": "code",
      "metadata": {
        "pycharm": {
          "name": "#%%\n"
        },
        "id": "UchOLoQHxzTi",
        "colab": {
          "base_uri": "https://localhost:8080/"
        },
        "outputId": "c12d348b-a06d-4118-a8c8-9cd9db4ceea5"
      },
      "source": [
        "# 문제 3. 아래 변수에 바인딩된 값의 타입을 판별해보세요.\n",
        "a = \"132\"\n",
        "\n",
        "# 정답 3.\n",
        "type(a)"
      ],
      "execution_count": null,
      "outputs": [
        {
          "output_type": "execute_result",
          "data": {
            "text/plain": [
              "str"
            ]
          },
          "metadata": {},
          "execution_count": 4
        }
      ]
    },
    {
      "cell_type": "code",
      "metadata": {
        "pycharm": {
          "name": "#%%\n"
        },
        "id": "hJwEQNIVxzTj",
        "colab": {
          "base_uri": "https://localhost:8080/"
        },
        "outputId": "f61de16a-4394-4ed7-e53c-d9a2baf27820"
      },
      "source": [
        "# 문제 4. 문자열 \"720\"을 정수형으로 변환한 변수와 타입을 출력하세요.\n",
        "num_str = \"720\"\n",
        "\n",
        "# 정답 4.\n",
        "num_str = int(num_str)\n",
        "print(num_str, type(num_str))"
      ],
      "execution_count": null,
      "outputs": [
        {
          "output_type": "stream",
          "name": "stdout",
          "text": [
            "720 <class 'int'>\n"
          ]
        }
      ]
    },
    {
      "cell_type": "code",
      "metadata": {
        "pycharm": {
          "name": "#%%\n"
        },
        "id": "wzitip7kxzTj",
        "colab": {
          "base_uri": "https://localhost:8080/"
        },
        "outputId": "b1ef79de-1727-4f00-cf53-e81405af9dd7"
      },
      "source": [
        "# 문제 5. 실수형 3.141592 를 문자열로 변환한 변수와 타입을 출력하세요.\n",
        "pi = 3.141592\n",
        "\n",
        "# 정답 5.\n",
        "pi = str(pi)\n",
        "print(pi, type(pi))"
      ],
      "execution_count": null,
      "outputs": [
        {
          "output_type": "stream",
          "name": "stdout",
          "text": [
            "3.141592 <class 'str'>\n"
          ]
        }
      ]
    },
    {
      "cell_type": "code",
      "metadata": {
        "pycharm": {
          "name": "#%%\n"
        },
        "id": "KQM9hFc2xzTj",
        "colab": {
          "base_uri": "https://localhost:8080/"
        },
        "outputId": "72cf553b-9a85-406d-d274-ed7238776cbb"
      },
      "source": [
        "# 문제 6. 문자열 \"3.141592\" 를 실수형으로 변환한 변수와 타입을 출력하세요.\n",
        "pi = \"3.141592\"\n",
        "\n",
        "# 정답 6.\n",
        "pi = float(pi)\n",
        "print(pi, type(pi))"
      ],
      "execution_count": null,
      "outputs": [
        {
          "output_type": "stream",
          "name": "stdout",
          "text": [
            "3.141592 <class 'float'>\n"
          ]
        }
      ]
    },
    {
      "cell_type": "code",
      "metadata": {
        "pycharm": {
          "name": "#%%\n"
        },
        "id": "bjEICf1FxzTj",
        "colab": {
          "base_uri": "https://localhost:8080/"
        },
        "outputId": "17d02869-696c-46f3-b451-8253932d258d"
      },
      "source": [
        "# 문제 7. 에어컨이 월 48,584원에 무이자 36개월의 조건으로 홈쇼핑에서 판매 중입니다. 총 구입 금액을 계산한 후 이를 출력하세요.\n",
        "\n",
        "# 정답 7.\n",
        "price_month = 48584\n",
        "total_price = price_month *36\n",
        "print(total_price)"
      ],
      "execution_count": null,
      "outputs": [
        {
          "output_type": "stream",
          "name": "stdout",
          "text": [
            "1749024\n"
          ]
        }
      ]
    },
    {
      "cell_type": "code",
      "metadata": {
        "pycharm": {
          "name": "#%%\n"
        },
        "id": "2PKkq8GHxzTj",
        "colab": {
          "base_uri": "https://localhost:8080/"
        },
        "outputId": "c58c62af-aa3c-46b4-da04-94be8cb1bff2"
      },
      "source": [
        "# 문제 8. 두 정수 A와 B를 입력받은 다음, A+B 결과값을 출력하는 프로그램을 작성하시오.\n",
        "# 입력 시, A에 30, B에 10 입력하세요.\n",
        "# 문제 링크: https://www.acmicpc.net/problem/1000\n",
        "\n",
        "# 정답 8.\n",
        "values = input()\n",
        "values = values.split()\n",
        "a = int(values[0])\n",
        "b = int(values[1])\n",
        "# 코드 작성: A+B 결과값 출력하는 코드\n",
        "print(a+b)"
      ],
      "execution_count": null,
      "outputs": [
        {
          "output_type": "stream",
          "name": "stdout",
          "text": [
            "30 10\n",
            "40\n"
          ]
        }
      ]
    },
    {
      "cell_type": "code",
      "metadata": {
        "pycharm": {
          "name": "#%%\n"
        },
        "id": "MWGZWKwFxzTk",
        "colab": {
          "base_uri": "https://localhost:8080/"
        },
        "outputId": "3bd2559f-849d-4cf4-cda7-adffdb336e97"
      },
      "source": [
        "# 문제 9. 두 정수 A와 B를 입력받은 다음, A/B 결과값을 출력하는 프로그램을 작성하시오.\n",
        "# 입력 시, A에 30, B에 10 입력하세요.\n",
        "# 문제 링크: https://www.acmicpc.net/problem/1008\n",
        "\n",
        "# 정답 9.\n",
        "values = input()\n",
        "values = values.split()\n",
        "a = int(values[0])\n",
        "b = int(values[1])\n",
        "# 코드 작성: A/B 결과값 출력하는 코드\n",
        "print(a/b)"
      ],
      "execution_count": null,
      "outputs": [
        {
          "output_type": "stream",
          "name": "stdout",
          "text": [
            "30 10\n",
            "3.0\n"
          ]
        }
      ]
    },
    {
      "cell_type": "code",
      "metadata": {
        "id": "rV1GVflHEXn0",
        "colab": {
          "base_uri": "https://localhost:8080/"
        },
        "outputId": "3c9a0f27-dd6a-4a82-af45-fc106e59e9df"
      },
      "source": [
        "# 문제 10. 학번과 이름이 다음과 같을 때 이름만 출력하기\n",
        "license_plate = \"20222024 박선아\"  # 수강생 분의 학번, 이름 반영 바랍니다.\n",
        "\n",
        "# 정답 10.\n",
        "name = license_plate[-3:]\n",
        "print(name)"
      ],
      "execution_count": null,
      "outputs": [
        {
          "output_type": "stream",
          "name": "stdout",
          "text": [
            "박선아\n"
          ]
        }
      ]
    },
    {
      "cell_type": "code",
      "metadata": {
        "id": "Fuqb_cC-EQlv",
        "colab": {
          "base_uri": "https://localhost:8080/"
        },
        "outputId": "a43017e6-24c7-47a8-ef0f-681fde44f516"
      },
      "source": [
        "# 문제 11. 아래의 전화번호에서 하이픈('-')을 제거하고 출력하기\n",
        "phone_number = \"010-1111-2222\"\n",
        "\n",
        "# 정답 11.\n",
        "number = phone_number.replace('-','' )\n",
        "print(number)"
      ],
      "execution_count": null,
      "outputs": [
        {
          "output_type": "stream",
          "name": "stdout",
          "text": [
            "01011112222\n"
          ]
        }
      ]
    },
    {
      "cell_type": "code",
      "metadata": {
        "id": "ZuRraohFFxfm",
        "colab": {
          "base_uri": "https://localhost:8080/"
        },
        "outputId": "c94fdeff-5db5-4943-ea3a-0578afcb5d8b"
      },
      "source": [
        "# 문제 12. 아래 문자열에서 소문자 'a'를 대문자 'A'로 변경하기\n",
        "string = \"abcdfe2a354a32\"\n",
        "\n",
        "# 정답 12.\n",
        "string_1 = string.replace('a','A')\n",
        "print(string_1)"
      ],
      "execution_count": null,
      "outputs": [
        {
          "output_type": "stream",
          "name": "stdout",
          "text": [
            "Abcdfe2A354A32\n"
          ]
        }
      ]
    },
    {
      "cell_type": "code",
      "metadata": {
        "id": "g6r46qL8F9D6",
        "colab": {
          "base_uri": "https://localhost:8080/"
        },
        "outputId": "c80d2fd6-eefa-45f9-b232-321573d95de9"
      },
      "source": [
        "# 문제 13. 문자열을 소문자 btc_krw로 변경하기\n",
        "ticker = \"BTC_KRW\"\n",
        "\n",
        "# 정답 13.\n",
        "ticker = ticker.lower()\n",
        "print(ticker)"
      ],
      "execution_count": null,
      "outputs": [
        {
          "output_type": "stream",
          "name": "stdout",
          "text": [
            "btc_krw\n"
          ]
        }
      ]
    },
    {
      "cell_type": "code",
      "metadata": {
        "id": "TNrELlmVGNJa",
        "colab": {
          "base_uri": "https://localhost:8080/"
        },
        "outputId": "8d1d9354-0fc8-474f-8ee8-00b34ba1da63"
      },
      "source": [
        "# 문제 14. 파일 이름이 문자열로 저장되어 있을 때, startswith 함수로\n",
        "# 파일 이름이 '2020'로 시작하는지 확인하기\n",
        "file_name = \"2020_보고서.xlsx\"\n",
        "\n",
        "#정답 14.\n",
        "file_name.startswith(\"2020\")"
      ],
      "execution_count": null,
      "outputs": [
        {
          "output_type": "execute_result",
          "data": {
            "text/plain": [
              "True"
            ]
          },
          "metadata": {},
          "execution_count": 17
        }
      ]
    },
    {
      "cell_type": "code",
      "metadata": {
        "id": "uxW8swn9GYnf",
        "colab": {
          "base_uri": "https://localhost:8080/"
        },
        "outputId": "b1157e26-24e1-4d9e-b84f-cf7453a5ddad"
      },
      "source": [
        "# 문제 15. 아래 문자열을 endswith 함수로 파일 이름이 'xlsx'로 끝나는지 확인하기\n",
        "file_name = \"보고서.xlsx\"\n",
        "\n",
        "# 정답 15.\n",
        "file_name.endswith(\"xlsx\")"
      ],
      "execution_count": null,
      "outputs": [
        {
          "output_type": "execute_result",
          "data": {
            "text/plain": [
              "True"
            ]
          },
          "metadata": {},
          "execution_count": 18
        }
      ]
    },
    {
      "cell_type": "code",
      "metadata": {
        "id": "50tB2EFRGihu",
        "colab": {
          "base_uri": "https://localhost:8080/"
        },
        "outputId": "b5c227d8-4ea3-4f7d-c8ab-487cabd13106"
      },
      "source": [
        "# 문제 16. 다음의 문자열을 btc, krw로 나누기\n",
        "ticker = \"btc_krw\"\n",
        "\n",
        "# 정답 16.\n",
        "ticker.split('_')"
      ],
      "execution_count": null,
      "outputs": [
        {
          "output_type": "execute_result",
          "data": {
            "text/plain": [
              "['btc', 'krw']"
            ]
          },
          "metadata": {},
          "execution_count": 19
        }
      ]
    },
    {
      "cell_type": "code",
      "metadata": {
        "id": "94Bv-WGbGpAW",
        "colab": {
          "base_uri": "https://localhost:8080/"
        },
        "outputId": "dc189893-13ca-41ee-f31e-da85bc370e96"
      },
      "source": [
        "# 문제 17. lang1과 lang2 리스트의 원소를 모두 갖는 langs 리스트 만들기\n",
        "lang1 = [\"C\", \"C++\", \"JAVA\"]\n",
        "lang2 = [\"Python\", \"Go\", \"C#\"]\n",
        "\n",
        "# 정답 17.\n",
        "lang3 =lang1 + lang2\n",
        "print(lang3)"
      ],
      "execution_count": null,
      "outputs": [
        {
          "output_type": "stream",
          "name": "stdout",
          "text": [
            "['C', 'C++', 'JAVA', 'Python', 'Go', 'C#']\n"
          ]
        }
      ]
    },
    {
      "cell_type": "code",
      "metadata": {
        "id": "TsIEgTVbG1cl",
        "colab": {
          "base_uri": "https://localhost:8080/"
        },
        "outputId": "2023bf28-9a68-4071-971d-5ed90af03c10"
      },
      "source": [
        "# 문제 18. 다음 리스트에 저장된 데이터의 개수를 화면에 출력하기\n",
        "cook = [\"피자\", \"김밥\", \"만두\", \"양념치킨\", \"족발\", \"피자\", \"김치만두\", \"쫄면\"]\n",
        "\n",
        "# 정답 18.\n",
        "len(cook)"
      ],
      "execution_count": null,
      "outputs": [
        {
          "output_type": "execute_result",
          "data": {
            "text/plain": [
              "8"
            ]
          },
          "metadata": {},
          "execution_count": 22
        }
      ]
    },
    {
      "cell_type": "code",
      "metadata": {
        "id": "WtuIJ2D4HFse",
        "colab": {
          "base_uri": "https://localhost:8080/"
        },
        "outputId": "024de4fc-a649-4636-b4a7-01fe6e7602e9"
      },
      "source": [
        "# 문제 19. 슬라이싱 사용하여 홀수만 출력하기\n",
        "nums = [1, 2, 3, 4, 5, 6, 7, 8, 9, 10]\n",
        "\n",
        "# 정답 19.\n",
        "print(nums[::2])"
      ],
      "execution_count": null,
      "outputs": [
        {
          "output_type": "stream",
          "name": "stdout",
          "text": [
            "[1, 3, 5, 7, 9]\n"
          ]
        }
      ]
    },
    {
      "cell_type": "code",
      "metadata": {
        "id": "C6Q3csBFHkgu",
        "colab": {
          "base_uri": "https://localhost:8080/"
        },
        "outputId": "eece1022-b751-4e14-f225-dfe069bc3c7b"
      },
      "source": [
        "# 문제 20. 리스트에 아래의 데이터가 바인딩 되어 있다.\n",
        "interest = ['삼성전자', 'LG전자', 'NAVER', 'SK하이닉스','미래에셋대우']\n",
        "# 아래와 같이 화면에 출력하라.\n",
        "# 출력 예시: 삼성전자/LG전자/NAVER/SK하이닉스/미래에셋대우\n",
        "\n",
        "# 정답 20.\n",
        "print('/'.join(interest))"
      ],
      "execution_count": null,
      "outputs": [
        {
          "output_type": "stream",
          "name": "stdout",
          "text": [
            "삼성전자/LG전자/NAVER/SK하이닉스/미래에셋대우\n"
          ]
        }
      ]
    },
    {
      "cell_type": "code",
      "metadata": {
        "id": "GLALcROlH3lO",
        "colab": {
          "base_uri": "https://localhost:8080/"
        },
        "outputId": "55eba07e-e42c-4a17-93e1-3615d8a12148"
      },
      "source": [
        "# 문제 21. 다음 딕셔너리에서 메로나의 가격을 1300으로 수정하라.\n",
        "ice = {\n",
        "    '메로나': 1000,\n",
        "    '폴로포': 1200,\n",
        "    '빵빠레': 1800,\n",
        "    '죠스바': 1200,\n",
        "    '월드콘': 1500\n",
        "}\n",
        "\n",
        "# 정답 21.\n",
        "ice['메로나']=1300\n",
        "print(ice)"
      ],
      "execution_count": null,
      "outputs": [
        {
          "output_type": "stream",
          "name": "stdout",
          "text": [
            "{'메로나': 1300, '폴로포': 1200, '빵빠레': 1800, '죠스바': 1200, '월드콘': 1500}\n"
          ]
        }
      ]
    },
    {
      "cell_type": "code",
      "metadata": {
        "id": "VR0TaEKCIVfd",
        "colab": {
          "base_uri": "https://localhost:8080/"
        },
        "outputId": "79ab0b18-fceb-4e66-d1a1-221eef533006"
      },
      "source": [
        "# 문제 22. 다음 딕셔너리에서 메로나를 삭제하라.\n",
        "ice = {\n",
        "    '메로나': 1000,\n",
        "    '폴로포': 1200,\n",
        "    '빵빠레': 1800,\n",
        "    '죠스바': 1200,\n",
        "    '월드콘': 1500\n",
        "}\n",
        "\n",
        "# 정답 22.\n",
        "del ice['메로나']\n",
        "print(ice)"
      ],
      "execution_count": null,
      "outputs": [
        {
          "output_type": "stream",
          "name": "stdout",
          "text": [
            "{'폴로포': 1200, '빵빠레': 1800, '죠스바': 1200, '월드콘': 1500}\n"
          ]
        }
      ]
    },
    {
      "cell_type": "code",
      "metadata": {
        "id": "FPLJdbcDIfLh",
        "colab": {
          "base_uri": "https://localhost:8080/"
        },
        "outputId": "761223a5-f147-477d-f0c6-8a65806ac89f"
      },
      "source": [
        "# 문제 23. 다음 딕셔너리에서 메로나의 가격을 화면에 출력하라.\n",
        "inventory = {\n",
        "    \"메로나\": [300, 20],\n",
        "    \"비비빅\": [400, 3],\n",
        "    \"죠스바\": [250, 100]\n",
        "}\n",
        "\n",
        "# 정답 23.\n",
        "print(inventory['메로나'][0])"
      ],
      "execution_count": null,
      "outputs": [
        {
          "output_type": "stream",
          "name": "stdout",
          "text": [
            "300\n"
          ]
        }
      ]
    },
    {
      "cell_type": "markdown",
      "metadata": {
        "id": "QeeBJFcoxzTm"
      },
      "source": [
        "연습문제"
      ]
    },
    {
      "cell_type": "code",
      "metadata": {
        "pycharm": {
          "name": "#%%\n"
        },
        "id": "g4N-DzKqxzTm",
        "colab": {
          "base_uri": "https://localhost:8080/"
        },
        "outputId": "c1a21b42-cc46-4a21-926b-56ba8b1b3d94"
      },
      "source": [
        "# 문제 24. 두 정수 A와 B를 입력받은 다음, A+B, A-B, A*B, A/B(몫), A%B(나머지) 정수형 결과값을 출력하는 프로그램을 작성하시오.\n",
        "# 입력 시, A에 32, B에 3 입력하세요.\n",
        "# 문제 링크: https://www.acmicpc.net/problem/10869\n",
        "\n",
        "# 정답 24.\n",
        "values = input()\n",
        "values = values.split()\n",
        "a = int(values[0])\n",
        "b = int(values[1])\n",
        "# 코드 작성: A+B 결과값 출력\n",
        "print(a+b)\n",
        "# 코드 작성: A-B 결과값 출력\n",
        "print(a-b)\n",
        "# 코드 작성: A*B 결과값 출력\n",
        "print(a*b)\n",
        "# 코드 작성: A/B 결과값 출력\n",
        "print(int(a/b))\n",
        "# 코드 작성: A%B 결과값 출력\n",
        "print(a%b)"
      ],
      "execution_count": null,
      "outputs": [
        {
          "output_type": "stream",
          "name": "stdout",
          "text": [
            "32 3\n",
            "35\n",
            "29\n",
            "96\n",
            "10\n",
            "2\n"
          ]
        }
      ]
    },
    {
      "cell_type": "code",
      "metadata": {
        "pycharm": {
          "name": "#%%\n"
        },
        "id": "JNXxUSEcxzTm",
        "colab": {
          "base_uri": "https://localhost:8080/"
        },
        "outputId": "c240ce3b-9d63-431b-baf8-8481501304bb"
      },
      "source": [
        "# 문제 25. 최초로 이익이 발생하는 판매량(> 손익분기점)을 출력한다. 이익이 발생하지 않으면 -1을 출력한다.\n",
        "# A는 고정비용, B는 가변 비용, C는 제품 가격이다.\n",
        "# 입력 시 1000 70 170 입력하세요.\n",
        "# 문제 링크: https://www.acmicpc.net/problem/1712\n",
        "# 손익분기점 계산식: a + b * x = c * x\n",
        "\n",
        "# 정답 25.\n",
        "values = input()\n",
        "values = values.split()\n",
        "a = int(values[0])\n",
        "b = int(values[1])\n",
        "c = int(values[2])\n",
        "# A는 고정비용, B는 가변 비용, C는 제품 가격이다.\n",
        "# 손익분기점 계산식: a + b * x = c * x\n",
        "\n",
        "# 코드 작성: 이익이 발생하지 않는 경우 -1 출력\n",
        "if b>=c:\n",
        "    print(-1)\n",
        "\n",
        "# 코드 작성: 최초로 이익이 발생하는 정수형 판매량(> 손익분기점) 출력\n",
        "else:\n",
        "    x= a//(c-b)\n",
        "    print(x+1)"
      ],
      "execution_count": null,
      "outputs": [
        {
          "output_type": "stream",
          "name": "stdout",
          "text": [
            "1000 70 170\n",
            "11\n"
          ]
        }
      ]
    },
    {
      "cell_type": "code",
      "metadata": {
        "pycharm": {
          "name": "#%%\n"
        },
        "id": "Ps5wJEavxzTm",
        "colab": {
          "base_uri": "https://localhost:8080/"
        },
        "outputId": "02158fa9-9733-4844-acc4-0a9bf115ea17"
      },
      "source": [
        "# 문제 26. 슬라이싱 사용하여 리스트의 숫자를 역 방향으로 출력하기\n",
        "nums = [1, 2, 3, 4, 5]\n",
        "\n",
        "# 정답 26\n",
        "nums.reverse()\n",
        "print(nums)"
      ],
      "execution_count": null,
      "outputs": [
        {
          "output_type": "stream",
          "name": "stdout",
          "text": [
            "[5, 4, 3, 2, 1]\n"
          ]
        }
      ]
    },
    {
      "cell_type": "code",
      "metadata": {
        "pycharm": {
          "name": "#%%\n"
        },
        "id": "IR-ZCAzbxzTm",
        "colab": {
          "base_uri": "https://localhost:8080/"
        },
        "outputId": "af39cba5-77d2-4790-ef03-4776600f3485"
      },
      "source": [
        "# 문제 27. 회사 이름이 슬래시 ('/')로 구분되어 하나의 문자열로 저장되어 있다.\n",
        "string = \"삼성전자/LG전자/NAVER\"\n",
        "# 이를 3개의 회사 이름으로 분리시키기\n",
        "\n",
        "# 정답 27.\n",
        "print(string.split('/'))"
      ],
      "execution_count": null,
      "outputs": [
        {
          "output_type": "stream",
          "name": "stdout",
          "text": [
            "['삼성전자', 'LG전자', 'NAVER']\n"
          ]
        }
      ]
    },
    {
      "cell_type": "code",
      "metadata": {
        "pycharm": {
          "name": "#%%\n"
        },
        "id": "EKfshouxxzTn",
        "colab": {
          "base_uri": "https://localhost:8080/"
        },
        "outputId": "46704676-ce3b-49c7-8dce-30bb6d86d95d"
      },
      "source": [
        "# 문제 28. 다음 딕셔너리에서 key 값으로만 구성된 리스트를 생성하라.\n",
        "icecream = {\"탱크보이\": 1200, \"폴라포\": 1200, \"빵빠레\": 1800, \"월드콘\": 1500, \"메로나\": 1000}\n",
        "\n",
        "# 정답 28.\n",
        "print(icecream.keys())"
      ],
      "execution_count": null,
      "outputs": [
        {
          "output_type": "stream",
          "name": "stdout",
          "text": [
            "dict_keys(['탱크보이', '폴라포', '빵빠레', '월드콘', '메로나'])\n"
          ]
        }
      ]
    },
    {
      "cell_type": "code",
      "metadata": {
        "pycharm": {
          "name": "#%%\n"
        },
        "id": "GcbkcK0cxzTn",
        "colab": {
          "base_uri": "https://localhost:8080/"
        },
        "outputId": "35b8dedb-5978-4545-867a-6d6d33315f1b"
      },
      "source": [
        "# 문제 29. 다음 딕셔너리에서 values 값으로만 구성된 리스트를 생성하라.\n",
        "icecream = {\"탱크보이\": 1200, \"폴라포\": 1200, \"빵빠레\": 1800, \"월드콘\": 1500, \"메로나\": 1000}\n",
        "\n",
        "# 정답 29.\n",
        "print(icecream.values())"
      ],
      "execution_count": null,
      "outputs": [
        {
          "output_type": "stream",
          "name": "stdout",
          "text": [
            "dict_values([1200, 1200, 1800, 1500, 1000])\n"
          ]
        }
      ]
    },
    {
      "cell_type": "code",
      "metadata": {
        "id": "Hd6nbq2A0oeL"
      },
      "source": [],
      "execution_count": null,
      "outputs": []
    }
  ]
}